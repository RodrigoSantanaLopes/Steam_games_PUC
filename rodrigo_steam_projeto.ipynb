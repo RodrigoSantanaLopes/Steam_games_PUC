{
 "cells": [
  {
   "cell_type": "code",
   "execution_count": 26,
   "metadata": {},
   "outputs": [],
   "source": [
    "import csv\n",
    "\n",
    "# Função para converter os valores da coluna \"Preço\" de string para float.\n",
    "# Isso é necessário para permitir cálculos numéricos, como o percentual de jogos gratuitos.\n",
    "def converter_preco_para_float(preco):\n",
    "    try:\n",
    "        # Remove símbolos de moeda, como '$', e converte o valor \"Free\" para 0.\n",
    "        return float(preco.replace('$', '').replace('Free', '0'))\n",
    "    except ValueError:\n",
    "        # Se houver algum problema na conversão, retorna null (ou none como preferir) para indicar a falha.\n",
    "        return None\n",
    "\n",
    "# Carrega os dados do arquivo CSV em uma lista de dicionários.\n",
    "# Cada linha do CSV será um dicionário, com as chaves sendo os nomes das colunas.\n",
    "with open(R'C:\\Users\\rodri\\Desktop\\codigos\\puc\\projeto1\\steam_games.csv', newline='', encoding='utf-8') as csvfile:\n",
    "    reader = csv.DictReader(csvfile)\n",
    "    # Armazena todos os dados do CSV em uma lista chamada dados_steam.\n",
    "    dados_steam = [row for row in reader]\n",
    "\n"
   ]
  },
  {
   "cell_type": "code",
   "execution_count": null,
   "metadata": {},
   "outputs": [],
   "source": [
    "# Converte os valores da coluna \"Preço\" para float usando a função definida anteriormente.\n",
    "# Isso é feito para cada jogo (cada linha) nos dados carregados.\n",
    "for jogo in dados_steam:\n",
    "    jogo['Price'] = converter_preco_para_float(jogo['Price'])\n",
    "\n",
    "# Classe para encapsular a lógica de análise dos dados dos jogos da Steam.\n",
    "# Essa abordagem organiza o código e facilita o reuso e a manutenção.\n",
    "class AnaliseDadosSteam:\n",
    "    def __init__(self, dados): #conceito apresentado na Aula 02 parte 3 \n",
    "        \"\"\"\n",
    "        Inicializa a classe AnaliseDadosSteam com os dados fornecidos.\n",
    "        Parâmetros:\n",
    "        - dados: Lista de dicionários contendo os dados dos jogos.\n",
    "        \"\"\"\n",
    "        self.dados = dados\n",
    "    \n",
    "    def calcular_percentual_gratuitos_pagos(self):\n",
    "        \"\"\" \n",
    "        Pergunta 1: Qual o percentual de jogos gratuitos e pagos?\n",
    "        --\n",
    "        Calcula o percentual de jogos gratuitos e pagos na plataforma.\n",
    "        Retorna:\n",
    "        - Uma tupla contendo o percentual de jogos gratuitos e o percentual de jogos pagos.\n",
    "        \"\"\"\n",
    "        # Calcula o número total de jogos na lista de dados.\n",
    "        total_jogos = len(self.dados)\n",
    "        \n",
    "        # Conta quantos jogos têm o preço igual a 0 (ou seja, são gratuitos).\n",
    "        jogos_gratuitos = sum(1 for jogo in self.dados if jogo['Price'] == 0)\n",
    "        \n",
    "        # Calcula o percentual de jogos gratuitos.\n",
    "        percentual_gratuitos = (jogos_gratuitos / total_jogos) * 100\n",
    "        \n",
    "        # Calcula o percentual de jogos pagos subtraindo o percentual de gratuitos de 100%.\n",
    "        percentual_pagos = 100 - percentual_gratuitos\n",
    "        \n",
    "        # Retorna os percentuais calculados como uma tupla.\n",
    "        return percentual_gratuitos, percentual_pagos\n",
    "\n",
    "    def ano_mais_popular(self):\n",
    "        \"\"\"\n",
    "        Pergunta 2: Qual o ano com maior número de lançamento de jogos?\n",
    "        --\n",
    "        Retorna o(s) ano(s) com o maior número de lançamentos de jogos.\n",
    "        Em caso de empate, retorna uma lista com todos os anos empatados.\n",
    "        \"\"\"\n",
    "        from collections import Counter\n",
    "        \n",
    "        # Extrai os anos de lançamento dos jogos.\n",
    "        # O ano é obtido ao separar a data de lançamento (que é uma string) e pegar o último elemento.\n",
    "        anos_lancamento = [jogo['Release date'].split()[-1] for jogo in self.dados if jogo['Release date']]\n",
    "        \n",
    "        # Conta a frequência de cada ano usando o Counter, que retorna um dicionário.\n",
    "        contagem_anos = Counter(anos_lancamento)\n",
    "        \n",
    "        # Encontra o valor máximo de lançamentos em um ano.\n",
    "        max_contagem = max(contagem_anos.values())\n",
    "        \n",
    "        # Cria uma lista dos anos que têm o mesmo número máximo de lançamentos.\n",
    "        anos_mais_populares = [ano for ano, contagem in contagem_anos.items() if contagem == max_contagem]\n",
    "        \n",
    "        # Retorna a lista dos anos com o maior número de lançamentos.\n",
    "        return anos_mais_populares\n",
    "\n",
    "    def tempo_medio_jogo(self):\n",
    "        \"\"\" \n",
    "        Pergunta: Qual o tempo médio de jogo em minutos para cada jogo?\n",
    "        --\n",
    "        Calcula o tempo médio de jogo (em minutos) para todos os jogos que têm esse dado disponível.\n",
    "        Retorna:\n",
    "        - O tempo médio de jogo em minutos.\n",
    "        \"\"\"\n",
    "        tempo_total_jogo = 0  # Inicializa a soma do tempo de jogo.\n",
    "        contagem = 0  # Inicializa a contagem de jogos com tempo de jogo disponível.\n",
    "        \n",
    "        # Itera por cada jogo nos dados.\n",
    "        for jogo in self.dados:\n",
    "            try:\n",
    "                # Tenta converter o tempo de jogo para float.\n",
    "                tempo_jogo = float(jogo['Average playtime forever'])\n",
    "                tempo_total_jogo += tempo_jogo  # Adiciona o tempo de jogo ao total.\n",
    "                contagem += 1  # Incrementa a contagem de jogos válidos.\n",
    "            except ValueError:\n",
    "                # Se o valor não for um número, ignora e continua.\n",
    "                continue\n",
    "        \n",
    "        # Calcula a média de tempo de jogo dividindo o total pelo número de jogos válidos.\n",
    "        # Se não houver jogos válidos (contagem = 0), retorna 0.\n",
    "        tempo_medio_jogo = tempo_total_jogo / contagem if contagem > 0 else 0\n",
    "        \n",
    "        # Retorna o tempo médio de jogo em minutos.\n",
    "        return tempo_medio_jogo\n",
    "\n",
    "# Instancia a classe AnaliseDadosSteam com os dados carregados.\n",
    "analista = AnaliseDadosSteam(dados_steam)\n",
    "\n",
    "# Chama o método para calcular o percentual de jogos gratuitos e pagos.\n",
    "percentual_gratuitos_pagos = analista.calcular_percentual_gratuitos_pagos()\n",
    "\n",
    "# Chama o método para encontrar o(s) ano(s) com o maior número de lançamentos.\n",
    "anos_mais_populares = analista.ano_mais_popular()\n",
    "\n",
    "# Chama o método para calcular o tempo médio de jogo.\n",
    "tempo_medio_jogo = analista.tempo_medio_jogo()\n",
    "\n",
    "# Exibe os resultados no console.\n",
    "print(f\"Percentual de jogos gratuitos e pagos: {percentual_gratuitos_pagos}\")\n",
    "print(f\"Ano(s) com o maior número de lançamentos: {anos_mais_populares}\")\n",
    "print(f\"Tempo médio de jogo (em minutos): {tempo_medio_jogo:.2f}\")\n"
   ]
  },
  {
   "cell_type": "code",
   "execution_count": 9,
   "metadata": {},
   "outputs": [
    {
     "name": "stdout",
     "output_type": "stream",
     "text": [
      "Percentual de jogos gratuitos: 17.4%\n",
      "Percentual de jogos pagos: 82.6%\n",
      "Ano(s) com o maior número de lançamentos: ['2022']\n",
      "Tempo médio de jogo (em minutos): 117.33\n"
     ]
    }
   ],
   "source": [
    "# Formatando resultados\n",
    "percentual_gratuitos, percentual_pagos = percentual_gratuitos_pagos\n",
    "percentual_gratuitos_formatado = round(percentual_gratuitos, 1)  # Arredonda para 1 casa decimal\n",
    "percentual_pagos_formatado = round(percentual_pagos, 1)  # Arredonda para 1 casa decimal\n",
    "\n",
    "print(f\"Percentual de jogos gratuitos: {percentual_gratuitos_formatado}%\")\n",
    "print(f\"Percentual de jogos pagos: {percentual_pagos_formatado}%\")\n",
    "print(f\"Ano(s) com o maior número de lançamentos: {anos_mais_populares}\")\n",
    "print(f\"Tempo médio de jogo (em minutos): {tempo_medio_jogo:.2f}\")\n"
   ]
  },
  {
   "cell_type": "code",
   "execution_count": 27,
   "metadata": {},
   "outputs": [
    {
     "data": {
      "text/plain": [
       "'testes '"
      ]
     },
     "execution_count": 27,
     "metadata": {},
     "output_type": "execute_result"
    }
   ],
   "source": [
    "'''testes '''"
   ]
  },
  {
   "cell_type": "code",
   "execution_count": 28,
   "metadata": {},
   "outputs": [],
   "source": [
    "#importando demais bibliotecas sem uso do Pandas\n",
    "import random\n",
    "import pytest"
   ]
  },
  {
   "cell_type": "code",
   "execution_count": 17,
   "metadata": {},
   "outputs": [
    {
     "ename": "AssertionError",
     "evalue": "Percentual de jogos gratuitos incorreto.",
     "output_type": "error",
     "traceback": [
      "\u001b[1;31m---------------------------------------------------------------------------\u001b[0m",
      "\u001b[1;31mAssertionError\u001b[0m                            Traceback (most recent call last)",
      "Cell \u001b[1;32mIn[17], line 83\u001b[0m\n\u001b[0;32m     80\u001b[0m gerar_amostra(caminho_arquivo_completo, caminho_arquivo_amostra)\n\u001b[0;32m     82\u001b[0m \u001b[38;5;66;03m# Testar com a amostra\u001b[39;00m\n\u001b[1;32m---> 83\u001b[0m \u001b[43mtestar_analise_dados\u001b[49m\u001b[43m(\u001b[49m\u001b[43mcaminho_arquivo_amostra\u001b[49m\u001b[43m)\u001b[49m\n\u001b[0;32m     85\u001b[0m \u001b[38;5;28mprint\u001b[39m(\u001b[38;5;124m\"\u001b[39m\u001b[38;5;124mOs testes passaram com sucesso!\u001b[39m\u001b[38;5;124m\"\u001b[39m)\n",
      "Cell \u001b[1;32mIn[17], line 70\u001b[0m, in \u001b[0;36mtestar_analise_dados\u001b[1;34m(caminho_arquivo_amostra)\u001b[0m\n\u001b[0;32m     67\u001b[0m tempo_medio_amostra \u001b[38;5;241m=\u001b[39m analise_amostra\u001b[38;5;241m.\u001b[39mtempo_medio_jogo()\n\u001b[0;32m     69\u001b[0m \u001b[38;5;66;03m# Atualize os valores esperados com base nos resultados obtidos\u001b[39;00m\n\u001b[1;32m---> 70\u001b[0m \u001b[38;5;28;01massert\u001b[39;00m \u001b[38;5;28mround\u001b[39m(percentual_amostra[\u001b[38;5;241m0\u001b[39m], \u001b[38;5;241m1\u001b[39m) \u001b[38;5;241m==\u001b[39m \u001b[38;5;241m17.4\u001b[39m, \u001b[38;5;124m\"\u001b[39m\u001b[38;5;124mPercentual de jogos gratuitos incorreto.\u001b[39m\u001b[38;5;124m\"\u001b[39m\n\u001b[0;32m     71\u001b[0m \u001b[38;5;28;01massert\u001b[39;00m \u001b[38;5;28mround\u001b[39m(percentual_amostra[\u001b[38;5;241m1\u001b[39m], \u001b[38;5;241m1\u001b[39m) \u001b[38;5;241m==\u001b[39m \u001b[38;5;241m82.6\u001b[39m, \u001b[38;5;124m\"\u001b[39m\u001b[38;5;124mPercentual de jogos pagos incorreto.\u001b[39m\u001b[38;5;124m\"\u001b[39m\n\u001b[0;32m     72\u001b[0m \u001b[38;5;28;01massert\u001b[39;00m ano_amostra \u001b[38;5;241m==\u001b[39m [\u001b[38;5;124m'\u001b[39m\u001b[38;5;124m2022\u001b[39m\u001b[38;5;124m'\u001b[39m], \u001b[38;5;124m\"\u001b[39m\u001b[38;5;124mAno com o maior número de lançamentos incorreto.\u001b[39m\u001b[38;5;124m\"\u001b[39m\n",
      "\u001b[1;31mAssertionError\u001b[0m: Percentual de jogos gratuitos incorreto."
     ]
    }
   ],
   "source": [
    "#Como não utilizei o Pandas, tentei resolver o problema com contas e formulas simples já que estou acostumado a lidar com dataframes. Porém, não consegui\n",
    "#neste caso, realizar os testes. Achei interessante manter esse código para entender minha lógica.\n",
    "\n",
    "# Funções para análise dos dados\n",
    "def converter_preco_para_float(preco):\n",
    "    try:\n",
    "        return float(preco.replace('$', '').replace('Free', '0'))\n",
    "    except ValueError:\n",
    "        return None\n",
    "\n",
    "class AnaliseDadosSteam:\n",
    "    def __init__(self, dados):\n",
    "        self.dados = dados\n",
    "    \n",
    "    def calcular_percentual_jogos_gratuitos_e_pagos(self):\n",
    "        total_jogos = len(self.dados)\n",
    "        jogos_gratuitos = sum(1 for jogo in self.dados if jogo['Price'] == 'Free')\n",
    "        percentual_gratuitos = (jogos_gratuitos / total_jogos) * 100\n",
    "        percentual_pagos = 100 - percentual_gratuitos\n",
    "        return percentual_gratuitos, percentual_pagos\n",
    "\n",
    "    def ano_com_mais_lancamentos(self):\n",
    "        from collections import Counter\n",
    "        anos_lancamento = [jogo['Release date'].split()[-1] for jogo in self.dados if jogo['Release date']]\n",
    "        contagem_anos = Counter(anos_lancamento)\n",
    "        max_contagem = max(contagem_anos.values())\n",
    "        anos_mais_populares = [ano for ano, contagem in contagem_anos.items() if contagem == max_contagem]\n",
    "        return anos_mais_populares\n",
    "\n",
    "    def tempo_medio_jogo(self):\n",
    "        tempo_total = 0\n",
    "        contagem = 0\n",
    "        for jogo in self.dados:\n",
    "            try:\n",
    "                tempo = float(jogo['Average playtime forever'])\n",
    "                tempo_total += tempo\n",
    "                contagem += 1\n",
    "            except ValueError:\n",
    "                continue\n",
    "        tempo_medio = tempo_total / contagem if contagem > 0 else 0\n",
    "        return tempo_medio\n",
    "\n",
    "# Função para gerar a amostra\n",
    "def gerar_amostra(caminho_arquivo_completo, caminho_arquivo_amostra):\n",
    "    with open(caminho_arquivo_completo, newline='', encoding='utf-8') as csvfile:\n",
    "        reader = csv.DictReader(csvfile)\n",
    "        dados_completos = [linha for linha in reader]\n",
    "\n",
    "    amostra = random.sample(dados_completos, 20)\n",
    "\n",
    "    with open(caminho_arquivo_amostra, 'w', newline='', encoding='utf-8') as csvfile:\n",
    "        fieldnames = dados_completos[0].keys()\n",
    "        writer = csv.DictWriter(csvfile, fieldnames=fieldnames)\n",
    "        writer.writeheader()\n",
    "        writer.writerows(amostra)\n",
    "\n",
    "# Função para testar o código\n",
    "def testar_analise_dados(caminho_arquivo_amostra):\n",
    "    with open(caminho_arquivo_amostra, newline='', encoding='utf-8') as csvfile:\n",
    "        reader = csv.DictReader(csvfile)\n",
    "        dados_amostra = [linha for linha in reader]\n",
    "\n",
    "    analise_amostra = AnaliseDadosSteam(dados_amostra)\n",
    "    percentual_amostra = analise_amostra.calcular_percentual_jogos_gratuitos_e_pagos()\n",
    "    ano_amostra = analise_amostra.ano_com_mais_lancamentos()\n",
    "    tempo_medio_amostra = analise_amostra.tempo_medio_jogo()\n",
    "\n",
    "    # Atualize os valores esperados com base nos resultados obtidos\n",
    "    assert round(percentual_amostra[0], 1) == 17.4, \"Percentual de jogos gratuitos incorreto.\"\n",
    "    assert round(percentual_amostra[1], 1) == 82.6, \"Percentual de jogos pagos incorreto.\"\n",
    "    assert ano_amostra == ['2022'], \"Ano com o maior número de lançamentos incorreto.\"\n",
    "    assert round(tempo_medio_amostra, 2) == 117.33, \"Tempo médio de jogo incorreto.\"\n",
    "\n",
    "# Caminho dos arquivos\n",
    "caminho_arquivo_completo = 'C:\\\\Users\\\\rodri\\\\Desktop\\\\codigos\\\\puc\\\\projeto1\\\\steam_games.csv'\n",
    "caminho_arquivo_amostra = 'C:\\\\Users\\\\rodri\\\\Desktop\\\\codigos\\\\puc\\\\projeto1\\\\steam_games_amostra.csv'\n",
    "\n",
    "# Gerar amostra\n",
    "gerar_amostra(caminho_arquivo_completo, caminho_arquivo_amostra)\n",
    "\n",
    "# Testar com a amostra\n",
    "testar_analise_dados(caminho_arquivo_amostra)\n",
    "\n",
    "print(\"Os testes passaram com sucesso!\")\n"
   ]
  },
  {
   "cell_type": "code",
   "execution_count": 29,
   "metadata": {},
   "outputs": [
    {
     "data": {
      "text/plain": [
       "' não obtive sucesso com esse teste'"
      ]
     },
     "execution_count": 29,
     "metadata": {},
     "output_type": "execute_result"
    }
   ],
   "source": [
    "''' não obtive sucesso com esse teste acima'''"
   ]
  },
  {
   "cell_type": "code",
   "execution_count": 34,
   "metadata": {},
   "outputs": [],
   "source": [
    "#novo teste - sucesso \n",
    "\n",
    "import csv\n",
    "import random\n",
    "from collections import Counter"
   ]
  },
  {
   "cell_type": "code",
   "execution_count": 37,
   "metadata": {},
   "outputs": [
    {
     "data": {
      "text/plain": [
       "'C:\\\\Users\\\\rodri\\\\Desktop\\\\codigos\\\\puc\\\\projeto1\\\\steam_games_amostra_puc.csv'"
      ]
     },
     "execution_count": 37,
     "metadata": {},
     "output_type": "execute_result"
    }
   ],
   "source": [
    "\n",
    "\n",
    "# 1. Carregar os dados do arquivo CSV\n",
    "# Usamos a função `open` para abrir o arquivo CSV em modo de leitura ('r'), especificando o encoding como 'utf-8'.\n",
    "# Em seguida, usamos `csv.DictReader` para ler o arquivo, onde cada linha do CSV é convertida em um dicionário.\n",
    "# Esses dicionários são armazenados na lista `dados_steam`.\n",
    "dados_steam = []\n",
    "with open('C:\\\\Users\\\\rodri\\\\Desktop\\\\codigos\\\\puc\\\\projeto1\\\\steam_games.csv', newline='', encoding='utf-8') as csvfile:\n",
    "    reader = csv.DictReader(csvfile)\n",
    "    dados_steam = [row for row in reader]\n",
    "\n",
    "# 2. Ignorar os primeiros 20 jogos\n",
    "# Este comando remove os primeiros 20 elementos da lista `dados_steam`, atendendo a um critério de avaliação específico.\n",
    "dados_steam = dados_steam[20:]\n",
    "\n",
    "# 3. Criar uma amostra aleatória de 20 jogos\n",
    "# Usamos `random.sample` para selecionar 20 jogos aleatórios da lista `dados_steam`.\n",
    "# Essa função retorna uma nova lista contendo os elementos escolhidos, sem alterar a lista original.\n",
    "amostra = random.sample(dados_steam, 20)\n",
    "\n",
    "# 4. Salvar a amostra em um novo arquivo CSV\n",
    "# Aqui, abrimos um novo arquivo CSV em modo de escrita ('w') e utilizamos `csv.DictWriter` para escrever os dados.\n",
    "# A função `writeheader` escreve os nomes das colunas (cabeçalho) no arquivo, e `writerows` escreve as linhas de dados.\n",
    "caminho_amostra = 'C:\\\\Users\\\\rodri\\\\Desktop\\\\codigos\\\\puc\\\\projeto1\\\\steam_games_amostra_puc.csv'\n",
    "with open(caminho_amostra, 'w', newline='', encoding='utf-8') as csvfile:\n",
    "    fieldnames = amostra[0].keys()  # Obtém as chaves (nomes das colunas) do primeiro dicionário da amostra\n",
    "    writer = csv.DictWriter(csvfile, fieldnames=fieldnames)\n",
    "    writer.writeheader()\n",
    "    writer.writerows(amostra)\n",
    "\n",
    "# Retorna o caminho do arquivo para facilitar o acesso posterior.\n",
    "caminho_amostra\n",
    "\n",
    "#CADA VEZ QUE O CÓDIGO FOR RODADO, GERARÁ UMA AMOSTRA!"
   ]
  },
  {
   "cell_type": "code",
   "execution_count": 38,
   "metadata": {},
   "outputs": [
    {
     "data": {
      "text/plain": [
       "(25.0, 75.0, ['2019', '2021'], 265.4)"
      ]
     },
     "execution_count": 38,
     "metadata": {},
     "output_type": "execute_result"
    }
   ],
   "source": [
    "# 5. Converter o preço de string para float\n",
    "# Esta função converte os preços dos jogos, que estão em formato string, para float. Por exemplo, \"$19.99\" é convertido para 19.99.\n",
    "# Se o preço for \"Free\", ele é convertido para 0. Se a conversão falhar, retorna `None`.\n",
    "def converter_preco_para_float(preco):\n",
    "    try:\n",
    "        return float(preco.replace('$', '').replace('Free', '0'))\n",
    "    except ValueError:\n",
    "        return None\n",
    "\n",
    "# Itera sobre cada jogo na amostra e converte o preço utilizando a função definida acima.\n",
    "for jogo in amostra:\n",
    "    jogo['Price'] = converter_preco_para_float(jogo['Price'])\n",
    "\n",
    "# 6. Cálculo do percentual de jogos gratuitos e pagos\n",
    "# Conta o total de jogos na amostra e quantos desses são gratuitos (preço igual a 0).\n",
    "# Em seguida, calcula o percentual de jogos gratuitos e pagos.\n",
    "total_jogos = len(amostra)\n",
    "jogos_gratuitos = sum(1 for jogo in amostra if jogo['Price'] == 0)\n",
    "percentual_gratuitos = (jogos_gratuitos / total_jogos) * 100\n",
    "percentual_pagos = 100 - percentual_gratuitos\n",
    "\n",
    "# 7. Identificação do ano com maior número de lançamentos\n",
    "# Extrai o ano da data de lançamento de cada jogo, utilizando `split` para separar as partes da data e pegar o último elemento.\n",
    "# Usa `Counter` para contar quantos jogos foram lançados em cada ano e identifica o ano com mais lançamentos.\n",
    "anos_lancamento = [jogo['Release date'].split()[-1] for jogo in amostra if jogo['Release date']]\n",
    "contagem_anos = Counter(anos_lancamento)\n",
    "max_lancamentos = max(contagem_anos.values())\n",
    "anos_mais_populares = [ano for ano, contagem in contagem_anos.items() if contagem == max_lancamentos]\n",
    "\n",
    "# 8. Cálculo do tempo médio de jogo\n",
    "# Itera sobre a amostra e soma o tempo de jogo (\"Average playtime forever\") de todos os jogos.\n",
    "# Em seguida, calcula o tempo médio de jogo, dividindo o total de tempo pelo número de jogos válidos (aqueles com tempo de jogo disponível).\n",
    "tempo_total_jogo = 0\n",
    "contagem = 0\n",
    "for jogo in amostra:\n",
    "    try:\n",
    "        tempo_jogo = float(jogo['Average playtime forever'])\n",
    "        tempo_total_jogo += tempo_jogo\n",
    "        contagem += 1\n",
    "    except ValueError:\n",
    "        continue\n",
    "\n",
    "# Se houver jogos válidos, calcula o tempo médio; caso contrário, define o tempo médio como 0.\n",
    "tempo_medio_jogo = tempo_total_jogo / contagem if contagem > 0 else 0\n",
    "\n",
    "# 9. Retorna os resultados calculados\n",
    "# A tupla final contém o percentual de jogos gratuitos, o percentual de jogos pagos, o(s) ano(s) com mais lançamentos e o tempo médio de jogo.\n",
    "(percentual_gratuitos, percentual_pagos, anos_mais_populares, tempo_medio_jogo)\n",
    "\n"
   ]
  },
  {
   "cell_type": "code",
   "execution_count": 40,
   "metadata": {},
   "outputs": [
    {
     "data": {
      "text/plain": [
       "'\\nJá estagiar trabalhando com Python facilitou meu trabalho, porém, recorri a própria documentação do Python. Espero não ser um problema.\\n\\nReferências:\\n\\nPython Software Foundation. \"csv — CSV File Reading and Writing.\" Python 3 Documentation. Acessado em 2024. https://docs.python.org/3/library/csv.html\\nPython Software Foundation. \"random — Generate pseudo-random numbers.\" Python 3 Documentation. Acessado em 2024. https://docs.python.org/3/library/random.html\\nPython Software Foundation. \"collections — Container datatypes.\" Python 3 Documentation. Acessado em 2024. https://docs.python.org/3/library/collections.html'"
      ]
     },
     "execution_count": 40,
     "metadata": {},
     "output_type": "execute_result"
    }
   ],
   "source": [
    "'''\n",
    "Já estagiar trabalhando com Python facilitou meu trabalho, porém, recorri a própria documentação do Python. Espero não ser um problema.\n",
    "\n",
    "Referências:\n",
    "\n",
    "Python Software Foundation. \"csv — CSV File Reading and Writing.\" Python 3 Documentation. Acessado em 2024. https://docs.python.org/3/library/csv.html\n",
    "Python Software Foundation. \"random — Generate pseudo-random numbers.\" Python 3 Documentation. Acessado em 2024. https://docs.python.org/3/library/random.html\n",
    "Python Software Foundation. \"collections — Container datatypes.\" Python 3 Documentation. Acessado em 2024. https://docs.python.org/3/library/collections.html'''"
   ]
  },
  {
   "cell_type": "code",
   "execution_count": null,
   "metadata": {},
   "outputs": [],
   "source": []
  }
 ],
 "metadata": {
  "kernelspec": {
   "display_name": "Python 3",
   "language": "python",
   "name": "python3"
  },
  "language_info": {
   "codemirror_mode": {
    "name": "ipython",
    "version": 3
   },
   "file_extension": ".py",
   "mimetype": "text/x-python",
   "name": "python",
   "nbconvert_exporter": "python",
   "pygments_lexer": "ipython3",
   "version": "3.12.5"
  }
 },
 "nbformat": 4,
 "nbformat_minor": 2
}
